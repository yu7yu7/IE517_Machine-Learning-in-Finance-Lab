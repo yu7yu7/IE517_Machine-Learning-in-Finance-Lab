{
 "cells": [
  {
   "cell_type": "markdown",
   "id": "e752d918",
   "metadata": {},
   "source": [
    "<center><img src=\"https://news.illinois.edu/files/6367/543635/116641.jpg\" alt=\"University of Illinois\" width=\"250\"/></center>\n",
    "\n",
    "# Machine Learning in Finance Lab: Week 07\n",
    "\n",
    "## deadline 2022-03-09 ##\n",
    "\n",
    "\n",
    "* Yu-Ching Liao <ycliao3@illinois.edu>"
   ]
  },
  {
   "cell_type": "markdown",
   "id": "8e4d77bc",
   "metadata": {},
   "source": [
    "# Basic Import"
   ]
  },
  {
   "cell_type": "code",
   "execution_count": 9,
   "id": "ff4f3410",
   "metadata": {
    "ExecuteTime": {
     "end_time": "2023-03-04T17:59:36.243857Z",
     "start_time": "2023-03-04T17:59:36.240384Z"
    }
   },
   "outputs": [],
   "source": [
    "from sklearn.model_selection import train_test_split\n",
    "import matplotlib.pyplot as plt\n",
    "from sklearn.neighbors import KNeighborsClassifier\n",
    "from sklearn.ensemble import RandomForestClassifier\n",
    "from sklearn.model_selection import StratifiedKFold,cross_validate,GridSearchCV\n",
    "\n",
    "import numpy as np\n",
    "import pandas as pd\n",
    "from sklearn.metrics import accuracy_score\n",
    "from sklearn import tree"
   ]
  },
  {
   "cell_type": "code",
   "execution_count": 33,
   "id": "a68d1d14",
   "metadata": {
    "ExecuteTime": {
     "end_time": "2023-03-04T18:12:51.863118Z",
     "start_time": "2023-03-04T18:12:51.799549Z"
    },
    "scrolled": true
   },
   "outputs": [],
   "source": [
    "cc = pd.read_csv(\n",
    "    \"/Users/yu-chingliao/Library/CloudStorage/GoogleDrive-josephliao0127@gmail.com/My Drive/Note/UIUC/Spring_2023/IE517A_Machine Learning in Finance Lab/Lecture Notes/Week 06/ccdefault.csv\",\n",
    "    index_col='ID')\n",
    "X = cc.drop(\"DEFAULT\", axis=1)\n",
    "y =cc[\"DEFAULT\"]"
   ]
  },
  {
   "cell_type": "markdown",
   "id": "e2a1f34b",
   "metadata": {},
   "source": [
    "# Random Forest"
   ]
  },
  {
   "cell_type": "code",
   "execution_count": 34,
   "id": "27a5e764",
   "metadata": {
    "ExecuteTime": {
     "end_time": "2023-03-04T18:14:31.773129Z",
     "start_time": "2023-03-04T18:12:52.893279Z"
    },
    "scrolled": false
   },
   "outputs": [
    {
     "data": {
      "text/plain": [
       "GridSearchCV(cv=10, estimator=RandomForestClassifier(),\n",
       "             param_grid={'n_estimators': [10, 50, 100]},\n",
       "             return_train_score=True, scoring='accuracy')"
      ]
     },
     "execution_count": 34,
     "metadata": {},
     "output_type": "execute_result"
    }
   ],
   "source": [
    "hyperparameters = {\n",
    "    'n_estimators': [10, 50, 100]\n",
    "}\n",
    "\n",
    "clf = RandomForestClassifier()\n",
    "\n",
    "grid_search = GridSearchCV(clf, hyperparameters, cv=10, scoring='accuracy',return_train_score = True) # not using cv\n",
    "grid_search.fit(X, y)"
   ]
  },
  {
   "cell_type": "markdown",
   "id": "cb686e07",
   "metadata": {},
   "source": [
    "# a)\tWhat is the relationship between n_estimators, in-sample CV accuracy and computation time?\n",
    "As shown below, as the n_estimator grown, the in-sample CV accuracy will as well grown in their value. However, the calculation time elapse will grown even dramatically as the number of estimators grown. "
   ]
  },
  {
   "cell_type": "code",
   "execution_count": 35,
   "id": "db5df06d",
   "metadata": {
    "ExecuteTime": {
     "end_time": "2023-03-04T18:14:44.316510Z",
     "start_time": "2023-03-04T18:14:44.307418Z"
    }
   },
   "outputs": [
    {
     "data": {
      "text/html": [
       "<div>\n",
       "<style scoped>\n",
       "    .dataframe tbody tr th:only-of-type {\n",
       "        vertical-align: middle;\n",
       "    }\n",
       "\n",
       "    .dataframe tbody tr th {\n",
       "        vertical-align: top;\n",
       "    }\n",
       "\n",
       "    .dataframe thead th {\n",
       "        text-align: right;\n",
       "    }\n",
       "</style>\n",
       "<table border=\"1\" class=\"dataframe\">\n",
       "  <thead>\n",
       "    <tr style=\"text-align: right;\">\n",
       "      <th></th>\n",
       "      <th>Parameters</th>\n",
       "      <th>Training Accuracy</th>\n",
       "      <th>Testing Accuracy</th>\n",
       "      <th>Time Consumption</th>\n",
       "    </tr>\n",
       "  </thead>\n",
       "  <tbody>\n",
       "    <tr>\n",
       "      <th>0</th>\n",
       "      <td>{'n_estimators': 10}</td>\n",
       "      <td>0.979830</td>\n",
       "      <td>0.807767</td>\n",
       "      <td>0.007723</td>\n",
       "    </tr>\n",
       "    <tr>\n",
       "      <th>1</th>\n",
       "      <td>{'n_estimators': 50}</td>\n",
       "      <td>0.998781</td>\n",
       "      <td>0.815800</td>\n",
       "      <td>0.031192</td>\n",
       "    </tr>\n",
       "    <tr>\n",
       "      <th>2</th>\n",
       "      <td>{'n_estimators': 100}</td>\n",
       "      <td>0.999322</td>\n",
       "      <td>0.817033</td>\n",
       "      <td>0.062124</td>\n",
       "    </tr>\n",
       "  </tbody>\n",
       "</table>\n",
       "</div>"
      ],
      "text/plain": [
       "              Parameters  Training Accuracy  Testing Accuracy  \\\n",
       "0   {'n_estimators': 10}           0.979830          0.807767   \n",
       "1   {'n_estimators': 50}           0.998781          0.815800   \n",
       "2  {'n_estimators': 100}           0.999322          0.817033   \n",
       "\n",
       "   Time Consumption  \n",
       "0          0.007723  \n",
       "1          0.031192  \n",
       "2          0.062124  "
      ]
     },
     "metadata": {},
     "output_type": "display_data"
    }
   ],
   "source": [
    "result = grid_search.cv_results_\n",
    "output = pd.DataFrame({'Parameters':result['params'] ,\n",
    "                                'Training Accuracy' : result['mean_train_score'],\n",
    "                                'Testing Accuracy': result['mean_test_score'],\n",
    "                                'Time Consumption': result['mean_score_time']\n",
    "                                })\n",
    "display(output)"
   ]
  },
  {
   "cell_type": "markdown",
   "id": "22b2a6cb",
   "metadata": {},
   "source": [
    "# b)\tWhat is the optimal number of estimators for your forest? \n",
    "As shown below, the optimal number of estimators is 50 in my model. "
   ]
  },
  {
   "cell_type": "code",
   "execution_count": 36,
   "id": "c842842e",
   "metadata": {
    "ExecuteTime": {
     "end_time": "2023-03-04T18:14:47.721646Z",
     "start_time": "2023-03-04T18:14:47.718555Z"
    }
   },
   "outputs": [
    {
     "name": "stdout",
     "output_type": "stream",
     "text": [
      "The best number of estimators is:  {'n_estimators': 100}\n"
     ]
    }
   ],
   "source": [
    "print(\"The best number of estimators is: \",grid_search.best_params_)"
   ]
  },
  {
   "cell_type": "markdown",
   "id": "d38b8d99",
   "metadata": {},
   "source": [
    "# c)\tWhich features contribute the most importance in your model according to scikit-learn function?\n",
    "As shown below, \"PAY_0\" contribute the most importance in my model."
   ]
  },
  {
   "cell_type": "code",
   "execution_count": 37,
   "id": "775c8cd5",
   "metadata": {
    "ExecuteTime": {
     "end_time": "2023-03-04T18:15:18.167508Z",
     "start_time": "2023-03-04T18:14:49.682062Z"
    }
   },
   "outputs": [
    {
     "data": {
      "image/png": "[encoded data removed]",
      "text/plain": [
       "<Figure size 640x480 with 1 Axes>"
      ]
     },
     "metadata": {},
     "output_type": "display_data"
    }
   ],
   "source": [
    "best_n_est = list(grid_search.best_params_.values())[0]\n",
    "\n",
    "rf = RandomForestRegressor(n_estimators=best_n_est)\n",
    "rf.fit(x, y)\n",
    "importances = pd.Series(data=rf.feature_importances_,\n",
    "                            index= x.columns)\n",
    "\n",
    "# Sort importances\n",
    "importances_sorted = importances.sort_values()\n",
    "\n",
    "# Draw a horizontal barplot of importances_sorted\n",
    "importances_sorted.plot(kind='barh', color='lightgreen')\n",
    "plt.title('Features Importances')\n",
    "plt.show() "
   ]
  },
  {
   "cell_type": "markdown",
   "id": "0435b14e",
   "metadata": {},
   "source": [
    "# d)\tWhat is feature importance and how is it calculated?  (If you are not sure, refer to the Scikit-Learn.org documentation.)\n",
    "Feature importance is a method used to identify which features or variables in a dataset have the most significant impact on the outcome of a particular machine learning model. They are computed as the mean and standard deviation of accumulation of the impurity decrease within each tree."
   ]
  },
  {
   "cell_type": "markdown",
   "id": "e04c5559",
   "metadata": {},
   "source": [
    "# Signing\n",
    "My name is Yu-Ching Liao<br>\n",
    "My NetID is: 656724372<br>\n",
    "I hereby certify that I have read the University policy on Academic Integrity and that I am not in violation."
   ]
  },
  {
   "cell_type": "markdown",
   "id": "551bff6e",
   "metadata": {},
   "source": [
    "# Link to github repo\n",
    "https://github.com/yu7yu7/IE517_Machine-Learning-in-Finance-Lab/blob/main/IE517_SP23_HW7/%20ML_Week07_HW.ipynb"
   ]
  },
  {
   "cell_type": "markdown",
   "id": "1a089f0e",
   "metadata": {},
   "source": [
    "<center><img src=\"https://news.illinois.edu/files/6367/543635/116641.jpg\" alt=\"University of Illinois\" width=\"250\"/></center>"
   ]
  }
 ],
 "metadata": {
  "kernelspec": {
   "display_name": "Python 3 (ipykernel)",
   "language": "python",
   "name": "python3"
  },
  "language_info": {
   "codemirror_mode": {
    "name": "ipython",
    "version": 3
   },
   "file_extension": ".py",
   "mimetype": "text/x-python",
   "name": "python",
   "nbconvert_exporter": "python",
   "pygments_lexer": "ipython3",
   "version": "3.9.13"
  },
  "toc": {
   "base_numbering": 1,
   "nav_menu": {},
   "number_sections": true,
   "sideBar": true,
   "skip_h1_title": false,
   "title_cell": "Table of Contents",
   "title_sidebar": "Contents",
   "toc_cell": false,
   "toc_position": {},
   "toc_section_display": true,
   "toc_window_display": false
  },
  "varInspector": {
   "cols": {
    "lenName": 16,
    "lenType": 16,
    "lenVar": 40
   },
   "kernels_config": {
    "python": {
     "delete_cmd_postfix": "",
     "delete_cmd_prefix": "del ",
     "library": "var_list.py",
     "varRefreshCmd": "print(var_dic_list())"
    },
    "r": {
     "delete_cmd_postfix": ") ",
     "delete_cmd_prefix": "rm(",
     "library": "var_list.r",
     "varRefreshCmd": "cat(var_dic_list()) "
    }
   },
   "types_to_exclude": [
    "module",
    "function",
    "builtin_function_or_method",
    "instance",
    "_Feature"
   ],
   "window_display": false
  }
 },
 "nbformat": 4,
 "nbformat_minor": 5
}
